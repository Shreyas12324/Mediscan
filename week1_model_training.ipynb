{
 "cells": [
  {
   "cell_type": "code",
   "execution_count": 1,
   "id": "deadc230-7f6e-4e6c-99aa-0463da3ffdc7",
   "metadata": {},
   "outputs": [
    {
     "name": "stdout",
     "output_type": "stream",
     "text": [
      "Classes: ['.ipynb_checkpoints', 'archive (1).zip', 'cataract', 'dataset', 'diabetic_retinopathy', 'glaucoma', 'normal']\n",
      ".ipynb_checkpoints: 0 images\n",
      "cataract: 1038 images\n",
      "dataset: 4 images\n",
      "diabetic_retinopathy: 1098 images\n",
      "glaucoma: 1007 images\n",
      "normal: 1074 images\n"
     ]
    }
   ],
   "source": [
    "import os\n",
    "\n",
    "dataset_path = \"dataset\"\n",
    "\n",
    "classes = os.listdir(dataset_path)\n",
    "print(\"Classes:\", classes)\n",
    "\n",
    "\n",
    "for cls in classes:\n",
    "    class_path = os.path.join(dataset_path, cls)\n",
    "    if os.path.isdir(class_path):\n",
    "        print(f\"{cls}: {len(os.listdir(class_path))} images\")\n"
   ]
  },
  {
   "cell_type": "code",
   "execution_count": 3,
   "id": "d5067f59-4502-47f0-9d51-3de109611512",
   "metadata": {},
   "outputs": [],
   "source": [
    "import numpy as np\n",
    "import matplotlib.pyplot as plt\n",
    "import cv2\n",
    "import os\n",
    "from sklearn.svm import SVC\n",
    "from sklearn.model_selection import train_test_split\n",
    "from sklearn.ensemble import RandomForestClassifier\n",
    "from sklearn.metrics import accuracy_score, classification_report\n"
   ]
  },
  {
   "cell_type": "code",
   "execution_count": 9,
   "id": "93cee0c5-f3fd-42f6-aae5-ce4816c96863",
   "metadata": {},
   "outputs": [
    {
     "name": "stdout",
     "output_type": "stream",
     "text": [
      "✅ Dataset loaded: 4217 samples with 4096 features each\n"
     ]
    }
   ],
   "source": [
    "IMG_SIZE = 64 \n",
    "\n",
    "def load_images_and_labels(dataset_path):\n",
    "    X, y = [], []\n",
    "    label_map = {label: idx for idx, label in enumerate(os.listdir(dataset_path))}\n",
    "\n",
    "    for label in os.listdir(dataset_path):\n",
    "        class_path = os.path.join(dataset_path, label)\n",
    "        if os.path.isdir(class_path):\n",
    "            for img_name in os.listdir(class_path):\n",
    "                img_path = os.path.join(class_path, img_name)\n",
    "\n",
    "                \n",
    "                img = cv2.imread(img_path, cv2.IMREAD_GRAYSCALE)\n",
    "                if img is None:\n",
    "                    print(f\" Skipping unreadable file: {img_path}\")\n",
    "                    continue  \n",
    "                \n",
    "                img = cv2.resize(img, (IMG_SIZE, IMG_SIZE))  \n",
    "                \n",
    "                X.append(img.flatten())  \n",
    "                y.append(label_map[label])\n",
    "\n",
    "    return np.array(X), np.array(y), label_map\n",
    "\n",
    "# Load dataset\n",
    "X, y, label_map = load_images_and_labels(\"dataset\")\n",
    "print(f\" Dataset loaded: {X.shape[0]} samples with {X.shape[1]} features each\")\n"
   ]
  },
  {
   "cell_type": "code",
   "execution_count": 10,
   "id": "a102de59-fe22-47df-ae68-1259bc542788",
   "metadata": {},
   "outputs": [
    {
     "name": "stdout",
     "output_type": "stream",
     "text": [
      "Training samples: 3373, Testing samples: 844\n"
     ]
    }
   ],
   "source": [
    "from sklearn.model_selection import train_test_split\n",
    "\n",
    "\n",
    "X_train, X_test, y_train, y_test = train_test_split(X, y, test_size=0.2, random_state=42)\n",
    "\n",
    "print(f\"Training samples: {X_train.shape[0]}, Testing samples: {X_test.shape[0]}\")\n"
   ]
  },
  {
   "cell_type": "code",
   "execution_count": 11,
   "id": "17034b55-2019-469b-8b8c-73cb7c34a6b6",
   "metadata": {},
   "outputs": [],
   "source": [
    "from sklearn.preprocessing import StandardScaler\n",
    "\n",
    "\n",
    "scaler = StandardScaler()\n",
    "X_train = scaler.fit_transform(X_train)\n",
    "X_test = scaler.transform(X_test)\n"
   ]
  },
  {
   "cell_type": "code",
   "execution_count": 12,
   "id": "2ea21083-4a1c-4949-8bd2-97219976b178",
   "metadata": {},
   "outputs": [
    {
     "name": "stdout",
     "output_type": "stream",
     "text": [
      "✅ SVM Model Accuracy: 71.56%\n"
     ]
    }
   ],
   "source": [
    "from sklearn.svm import SVC\n",
    "from sklearn.metrics import accuracy_score\n",
    "\n",
    "\n",
    "svm_model = SVC(kernel='rbf', C=1, gamma='scale', random_state=42)\n",
    "\n",
    "\n",
    "svm_model.fit(X_train, y_train)\n",
    "\n",
    "\n",
    "y_pred = svm_model.predict(X_test)\n",
    "\n",
    "\n",
    "accuracy = accuracy_score(y_test, y_pred)\n",
    "print(f\"✅ SVM Model Accuracy: {accuracy * 100:.2f}%\")\n"
   ]
  },
  {
   "cell_type": "code",
   "execution_count": 14,
   "id": "b98bedc6-e646-4a49-841a-ba7764a8b89f",
   "metadata": {},
   "outputs": [
    {
     "name": "stdout",
     "output_type": "stream",
     "text": [
      "On branch master\n",
      "Your branch is up to date with 'origin/master'.\n",
      "\n",
      "Changes not staged for commit:\n",
      "  (use \"git add <file>...\" to update what will be committed)\n",
      "  (use \"git restore <file>...\" to discard changes in working directory)\n",
      "\tmodified:   week1_setup.ipynb\n",
      "\n",
      "Untracked files:\n",
      "  (use \"git add <file>...\" to include in what will be committed)\n",
      "\t.ipynb_checkpoints/week1_model_training-checkpoint.ipynb\n",
      "\tShreyas_Chaudhary_svm_model_training_screenshots/\n",
      "\tmediscan_env/\n",
      "\tweek1_model_training.ipynb\n",
      "\n",
      "no changes added to commit (use \"git add\" and/or \"git commit -a\")\n"
     ]
    }
   ],
   "source": [
    "!git status"
   ]
  },
  {
   "cell_type": "code",
   "execution_count": 16,
   "id": "de68a81a-c569-4fb1-9243-7e476954867b",
   "metadata": {},
   "outputs": [
    {
     "name": "stdout",
     "output_type": "stream",
     "text": [
      "origin\thttps://github.com/Shreyas12324/Mediscan.git (fetch)\n",
      "origin\thttps://github.com/Shreyas12324/Mediscan.git (push)\n"
     ]
    }
   ],
   "source": [
    "!git remote -v\n"
   ]
  },
  {
   "cell_type": "code",
   "execution_count": null,
   "id": "3d417906-a6f5-4aa6-816a-7fd22b6ac608",
   "metadata": {},
   "outputs": [],
   "source": [
    "!git add .\n",
    "!git commit -m \"Week_1_Model_training\"\n",
    "\n"
   ]
  },
  {
   "cell_type": "code",
   "execution_count": null,
   "id": "f8e962f0-163b-4f54-9311-1b2b369b9251",
   "metadata": {},
   "outputs": [],
   "source": []
  },
  {
   "cell_type": "code",
   "execution_count": null,
   "id": "163f1137-7bb6-4cbb-bc99-c59a9256183a",
   "metadata": {},
   "outputs": [],
   "source": []
  }
 ],
 "metadata": {
  "kernelspec": {
   "display_name": "Python 3 (ipykernel)",
   "language": "python",
   "name": "python3"
  },
  "language_info": {
   "codemirror_mode": {
    "name": "ipython",
    "version": 3
   },
   "file_extension": ".py",
   "mimetype": "text/x-python",
   "name": "python",
   "nbconvert_exporter": "python",
   "pygments_lexer": "ipython3",
   "version": "3.11.7"
  }
 },
 "nbformat": 4,
 "nbformat_minor": 5
}
