{
 "cells": [
  {
   "cell_type": "code",
   "execution_count": 1,
   "id": "54ffef16-ba0a-4a51-b446-b0029a852c80",
   "metadata": {},
   "outputs": [
    {
     "name": "stdout",
     "output_type": "stream",
     "text": [
      "Initialized empty Git repository in C:/Users/shrey/OneDrive/Documents/mediscan/.git/\n"
     ]
    }
   ],
   "source": [
    "!git init\n"
   ]
  },
  {
   "cell_type": "code",
   "execution_count": 4,
   "id": "45384bfe-f991-461c-8136-7033386683de",
   "metadata": {},
   "outputs": [
    {
     "name": "stderr",
     "output_type": "stream",
     "text": [
      "error: remote origin already exists.\n"
     ]
    }
   ],
   "source": [
    "!git remote add origin  https://github.com/Shreyas12324/Mediscan.git\n"
   ]
  },
  {
   "cell_type": "code",
   "execution_count": 5,
   "id": "0d327dcc-74fb-4487-9975-46c04a26e1b4",
   "metadata": {},
   "outputs": [
    {
     "name": "stdout",
     "output_type": "stream",
     "text": [
      "origin\thttps://github.com/Shreyas12324/Mediscan.git (fetch)\n",
      "origin\thttps://github.com/Shreyas12324/Mediscan.git (push)\n"
     ]
    }
   ],
   "source": [
    "!git remote -v\n"
   ]
  },
  {
   "cell_type": "code",
   "execution_count": 6,
   "id": "fdae01c1-b6c3-43ca-aae2-080c2dcf1125",
   "metadata": {},
   "outputs": [],
   "source": [
    "!git remote remove origin\n",
    "\n"
   ]
  },
  {
   "cell_type": "code",
   "execution_count": 7,
   "id": "6dd7e5bd-44e3-40a0-bd3c-9598288cf096",
   "metadata": {},
   "outputs": [],
   "source": [
    "!git remote add origin https://github.com/Shreyas12324/Mediscan.git\n",
    "\n"
   ]
  },
  {
   "cell_type": "code",
   "execution_count": 8,
   "id": "feec39fa-5475-4881-b653-86d113559f74",
   "metadata": {},
   "outputs": [
    {
     "name": "stdout",
     "output_type": "stream",
     "text": [
      "origin\thttps://github.com/Shreyas12324/Mediscan.git (fetch)\n",
      "origin\thttps://github.com/Shreyas12324/Mediscan.git (push)\n"
     ]
    }
   ],
   "source": [
    "!git remote -v\n"
   ]
  },
  {
   "cell_type": "code",
   "execution_count": 9,
   "id": "8e1ad5fe-703d-4a68-b1ed-4c08e03a7f6c",
   "metadata": {},
   "outputs": [],
   "source": [
    "!echo __pycache__/ > .gitignore\n",
    "!echo .vscode/ >> .gitignore\n",
    "!echo *.log >> .gitignore\n",
    "!echo dataset/ >> .gitignore\n"
   ]
  },
  {
   "cell_type": "code",
   "execution_count": 10,
   "id": "1dccce2d-2be2-4b3e-a7e6-00feb1f61db2",
   "metadata": {},
   "outputs": [
    {
     "name": "stderr",
     "output_type": "stream",
     "text": [
      "warning: in the working copy of '.ipynb_checkpoints/week1_setup-checkpoint.ipynb', LF will be replaced by CRLF the next time Git touches it\n",
      "warning: in the working copy of 'week1_setup.ipynb', LF will be replaced by CRLF the next time Git touches it\n",
      "Author identity unknown\n",
      "\n",
      "*** Please tell me who you are.\n",
      "\n",
      "Run\n",
      "\n",
      "  git config --global user.email \"you@example.com\"\n",
      "  git config --global user.name \"Your Name\"\n",
      "\n",
      "to set your account's default identity.\n",
      "Omit --global to set the identity only in this repository.\n",
      "\n",
      "fatal: unable to auto-detect email address (got 'shrey@LAPTOP-QLE66MBU.(none)')\n"
     ]
    }
   ],
   "source": [
    "!git add .\n",
    "!git commit -m \"Week 1 Project Setup\"\n"
   ]
  },
  {
   "cell_type": "code",
   "execution_count": 11,
   "id": "a6cb05ae-c28f-486a-b480-894aea71c798",
   "metadata": {},
   "outputs": [],
   "source": [
    "!git config --global user.email \"shreyasshikshantar@gmail.com\"\n",
    "!git config --global user.name \"Shreyas12324\"\n"
   ]
  },
  {
   "cell_type": "code",
   "execution_count": null,
   "id": "338178bc-7d4a-4f11-864f-30c98879359a",
   "metadata": {},
   "outputs": [],
   "source": []
  }
 ],
 "metadata": {
  "kernelspec": {
   "display_name": "Python 3 (ipykernel)",
   "language": "python",
   "name": "python3"
  },
  "language_info": {
   "codemirror_mode": {
    "name": "ipython",
    "version": 3
   },
   "file_extension": ".py",
   "mimetype": "text/x-python",
   "name": "python",
   "nbconvert_exporter": "python",
   "pygments_lexer": "ipython3",
   "version": "3.13.1"
  }
 },
 "nbformat": 4,
 "nbformat_minor": 5
}
